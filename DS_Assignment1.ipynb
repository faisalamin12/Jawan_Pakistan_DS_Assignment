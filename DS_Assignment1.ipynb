{
 "cells": [
  {
   "cell_type": "markdown",
   "id": "8e30acee",
   "metadata": {},
   "source": [
    "# ASSIGNMENT 1"
   ]
  },
  {
   "cell_type": "markdown",
   "id": "0c41bf7e",
   "metadata": {},
   "source": [
    "Write python program to print string in specific format"
   ]
  },
  {
   "cell_type": "code",
   "execution_count": 30,
   "id": "5c9d56b2",
   "metadata": {},
   "outputs": [
    {
     "name": "stdout",
     "output_type": "stream",
     "text": [
      "Twinkle, twinkle, little star, \n",
      " \t How i wonder what you are! \n",
      " \t \t Up above the world so high, \n",
      " \t \t Like a diamond in the sky. \n",
      " Twinkle, twinkle, little star \n",
      " \t How i wonder what you are!\n"
     ]
    }
   ],
   "source": [
    "print( \"Twinkle, twinkle, little star, \\n \\t How i wonder what you are! \\n \\t \\t Up above the world so high, \\n \\t \\t Like a diamond in the sky. \\n Twinkle, twinkle, little star \\n \\t How i wonder what you are!\")"
   ]
  },
  {
   "cell_type": "markdown",
   "id": "585b33bb",
   "metadata": {},
   "source": [
    "Write a program to print version of python currently using"
   ]
  },
  {
   "cell_type": "code",
   "execution_count": 3,
   "id": "250a1d29",
   "metadata": {},
   "outputs": [
    {
     "name": "stdout",
     "output_type": "stream",
     "text": [
      "3.9.7 (default, Sep 16 2021, 16:59:28) [MSC v.1916 64 bit (AMD64)]\n"
     ]
    }
   ],
   "source": [
    "import sys\n",
    "print (sys.version)"
   ]
  },
  {
   "cell_type": "markdown",
   "id": "9877c1ca",
   "metadata": {},
   "source": [
    "Write a program to print cureent date and time"
   ]
  },
  {
   "cell_type": "code",
   "execution_count": 11,
   "id": "94c3ec78",
   "metadata": {},
   "outputs": [
    {
     "name": "stdout",
     "output_type": "stream",
     "text": [
      "Current date and time : \n",
      "2021-12-29 18:57:27\n"
     ]
    }
   ],
   "source": [
    "import datetime\n",
    "now = datetime.datetime.now()\n",
    "print (\"Current date and time : \")\n",
    "#FORMAT \n",
    "print (now.strftime(\"%Y-%m-%d %H:%M:%S\"))"
   ]
  },
  {
   "cell_type": "markdown",
   "id": "96815b41",
   "metadata": {},
   "source": [
    "Write a program to print radius of the circle"
   ]
  },
  {
   "cell_type": "code",
   "execution_count": 25,
   "id": "6e9a36e3",
   "metadata": {},
   "outputs": [
    {
     "name": "stdout",
     "output_type": "stream",
     "text": [
      "Enter radius of the circle:2\n",
      "12.56\n"
     ]
    }
   ],
   "source": [
    "r = float(input(\"Enter radius of the circle:\"))\n",
    "area = 3.14*(r)**2\n",
    "print(area)"
   ]
  },
  {
   "cell_type": "markdown",
   "id": "b8184a29",
   "metadata": {},
   "source": [
    "Write a program that takes first name and last name and print in reverse order"
   ]
  },
  {
   "cell_type": "code",
   "execution_count": 31,
   "id": "9b60c2ff",
   "metadata": {},
   "outputs": [
    {
     "name": "stdout",
     "output_type": "stream",
     "text": [
      "Enter first name: Ateeqa\n",
      "Enter last name: Kanwal\n",
      "Kanwal Ateeqa\n"
     ]
    }
   ],
   "source": [
    "first_name=input(\"Enter first name: \")\n",
    "last_name=input(\"Enter last name: \")\n",
    "print(last_name, first_name)"
   ]
  },
  {
   "cell_type": "markdown",
   "id": "99719516",
   "metadata": {},
   "source": [
    "Write a program that takes two numbers input and print their sum"
   ]
  },
  {
   "cell_type": "code",
   "execution_count": 29,
   "id": "ca521852",
   "metadata": {},
   "outputs": [
    {
     "name": "stdout",
     "output_type": "stream",
     "text": [
      "Enter first number: 2\n",
      "Enter second number: 3\n",
      "The answer is  5.0\n"
     ]
    }
   ],
   "source": [
    "a = float(input(\"Enter first number: \"))\n",
    "b= float(input(\"Enter second number: \"))\n",
    "c= a+b\n",
    "print(\"The answer is \", c)"
   ]
  }
 ],
 "metadata": {
  "kernelspec": {
   "display_name": "Python 3 (ipykernel)",
   "language": "python",
   "name": "python3"
  },
  "language_info": {
   "codemirror_mode": {
    "name": "ipython",
    "version": 3
   },
   "file_extension": ".py",
   "mimetype": "text/x-python",
   "name": "python",
   "nbconvert_exporter": "python",
   "pygments_lexer": "ipython3",
   "version": "3.9.7"
  }
 },
 "nbformat": 4,
 "nbformat_minor": 5
}
